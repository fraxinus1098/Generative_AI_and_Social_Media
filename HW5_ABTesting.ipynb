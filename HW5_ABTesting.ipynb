{
  "cells": [
    {
      "cell_type": "markdown",
      "metadata": {
        "id": "view-in-github",
        "colab_type": "text"
      },
      "source": [
        "<a href=\"https://colab.research.google.com/github/fraxinus1098/socialmediaanalytics/blob/main/HW5_ABTesting.ipynb\" target=\"_parent\"><img src=\"https://colab.research.google.com/assets/colab-badge.svg\" alt=\"Open In Colab\"/></a>"
      ]
    },
    {
      "cell_type": "markdown",
      "metadata": {
        "id": "CTtrdqGpCpIZ"
      },
      "source": [
        "# Homework 5 - A/B Testing\n",
        "\n",
        "This notebook provides some skeleton code to get you started on the homework. Add in your own code and markdown cells to answer the homework questions. If you want to submit the notebook as a PDF, make sure your code and markdowns are clear and concise to make grading easy for the TAs.\n",
        "This notebook can be opened in Colab Open In Colab\n",
        "\n",
        "Before starting, select \"Runtime->Factory reset runtime\" to start with your directories and environment in the base state.\n",
        "\n",
        "If you want to save changes to the notebook, select \"File->Save a copy in Drive\" from the top menu in Colab. This will save the notebook in your Google Drive.\n",
        "\n",
        "\n",
        "\n"
      ]
    },
    {
      "cell_type": "markdown",
      "metadata": {
        "id": "zr4vM1Sd4RQd"
      },
      "source": [
        "# Clones, Installs, and Imports"
      ]
    },
    {
      "cell_type": "markdown",
      "metadata": {
        "id": "xxAnuxWhC8Dx"
      },
      "source": [
        "## Clone GitHub Repository\n",
        "This will clone the repository to your machine. This includes the code and data files. Then change into the directory of the repository."
      ]
    },
    {
      "cell_type": "code",
      "execution_count": null,
      "metadata": {
        "id": "nu5VjT4uC81x",
        "colab": {
          "base_uri": "https://localhost:8080/"
        },
        "outputId": "612b1039-bbce-4d91-e7e8-2a0a716cf786"
      },
      "outputs": [
        {
          "output_type": "stream",
          "name": "stdout",
          "text": [
            "Cloning into 'social_media_analytics'...\n",
            "remote: Enumerating objects: 2690, done.\u001b[K\n",
            "remote: Counting objects: 100% (2690/2690), done.\u001b[K\n",
            "remote: Compressing objects: 100% (2268/2268), done.\u001b[K\n",
            "remote: Total 2690 (delta 452), reused 2654 (delta 417), pack-reused 0\u001b[K\n",
            "Receiving objects: 100% (2690/2690), 175.00 MiB | 20.53 MiB/s, done.\n",
            "Resolving deltas: 100% (452/452), done.\n",
            "Updating files: 100% (1965/1965), done.\n"
          ]
        }
      ],
      "source": [
        "!git clone https://github.com/zlisto/social_media_analytics\n",
        "\n",
        "import os\n",
        "os.chdir(\"social_media_analytics\")"
      ]
    },
    {
      "cell_type": "markdown",
      "metadata": {
        "id": "Yu9ToTexV9fu"
      },
      "source": [
        "## Install Packages"
      ]
    },
    {
      "cell_type": "code",
      "execution_count": null,
      "metadata": {
        "id": "STuorg4AV_gh"
      },
      "outputs": [],
      "source": [
        "from datetime import datetime, timedelta\n",
        "import numpy as np\n",
        "import pandas as pd\n",
        "import matplotlib.pyplot as plt\n",
        "import seaborn as sns\n",
        "from scipy import stats\n",
        "from statsmodels.stats.weightstats import ztest\n",
        "from statsmodels.stats.multitest import multipletests\n",
        "\n",
        "\n",
        "#display settings for figures\n",
        "pd.set_option(\"display.max_colwidth\", None)\n",
        "plt.rcParams.update({'axes.labelsize': 16,\n",
        "                     'xtick.labelsize': 14,\n",
        "                     'ytick.labelsize': 14})\n",
        "plt.rcParams['figure.figsize'] = [8, 6]\n",
        "###\n",
        "\n",
        "import gensim.downloader as api\n",
        "from sklearn.feature_extraction.text import CountVectorizer\n",
        "from sklearn.decomposition import LatentDirichletAllocation\n",
        "\n",
        "from transformers import RobertaTokenizer, RobertaModel\n",
        "import torch\n",
        "\n",
        "from sklearn.decomposition import PCA\n",
        "from sklearn.manifold import TSNE\n",
        "\n",
        "import sklearn.cluster as cluster\n",
        "from sklearn import metrics\n",
        "from scipy import stats\n",
        "\n",
        "from wordcloud import WordCloud, STOPWORDS, ImageColorGenerator\n",
        "\n",
        "\n",
        "\n",
        "import scripts.TextAnalysis as ta\n",
        "\n",
        "#this code makes the default font sizes big in plots\n",
        "plt.rcParams.update({'axes.labelsize': 18,\n",
        "                     'xtick.labelsize': 14,\n",
        "                     'ytick.labelsize': 14})\n",
        "###\n",
        "\n",
        "#Instagram analysis\n",
        "from matplotlib.offsetbox import OffsetImage, AnnotationBbox\n",
        "from PIL import Image\n",
        "from PIL import Image as PILImage\n",
        "from matplotlib.patches import Ellipse\n",
        "\n",
        "#Image processing with Resnet\n",
        "import torch\n",
        "from torchvision import models, transforms\n",
        "from sklearn.preprocessing import StandardScaler\n",
        "\n",
        "#Low dimensional embedding algorithms\n",
        "from sklearn.decomposition import PCA\n",
        "from sklearn.manifold import TSNE\n",
        "from umap import UMAP\n",
        "\n",
        "#Clustering algorithms\n",
        "from sklearn.cluster import KMeans\n",
        "from sklearn.metrics import silhouette_score"
      ]
    },
    {
      "cell_type": "markdown",
      "metadata": {
        "id": "bhvV8ImiCpIa"
      },
      "source": [
        "## Import Packages"
      ]
    },
    {
      "cell_type": "code",
      "execution_count": null,
      "metadata": {
        "id": "y3C8G8FfCpIa",
        "colab": {
          "base_uri": "https://localhost:8080/"
        },
        "outputId": "d9da9468-1faa-4f07-c305-7eea794e4ff3"
      },
      "outputs": [
        {
          "output_type": "stream",
          "name": "stdout",
          "text": [
            "\u001b[2K     \u001b[90m━━━━━━━━━━━━━━━━━━━━━━━━━━━━━━━━━━━━━━━━\u001b[0m \u001b[32m90.9/90.9 kB\u001b[0m \u001b[31m1.8 MB/s\u001b[0m eta \u001b[36m0:00:00\u001b[0m\n",
            "\u001b[?25h  Preparing metadata (setup.py) ... \u001b[?25l\u001b[?25hdone\n",
            "\u001b[2K     \u001b[90m━━━━━━━━━━━━━━━━━━━━━━━━━━━━━━━━━━━━━━━━\u001b[0m \u001b[32m55.8/55.8 kB\u001b[0m \u001b[31m4.7 MB/s\u001b[0m eta \u001b[36m0:00:00\u001b[0m\n",
            "\u001b[?25h  Building wheel for umap-learn (setup.py) ... \u001b[?25l\u001b[?25hdone\n"
          ]
        }
      ],
      "source": [
        "!pip install umap-learn -q"
      ]
    },
    {
      "cell_type": "markdown",
      "metadata": {
        "id": "H92DV5YyCpIc"
      },
      "source": [
        "# Problem 1. (30 points) Tweet Sentiment"
      ]
    },
    {
      "cell_type": "markdown",
      "metadata": {
        "id": "DG9ifhLjCpIc"
      },
      "source": [
        "## 1. (2 points) Load data\n",
        "\n",
        "Load the tweets in the file `\"data/oreo_sentiment.csv\"` into a dataframe. Print out the head of this dataframe so we know you did it right."
      ]
    },
    {
      "cell_type": "code",
      "execution_count": null,
      "metadata": {
        "id": "2bxI5u3vCpId",
        "colab": {
          "base_uri": "https://localhost:8080/",
          "height": 643
        },
        "outputId": "ae350444-0e03-48da-c12f-5e3468a2f6a7"
      },
      "outputs": [
        {
          "output_type": "stream",
          "name": "stdout",
          "text": [
            "dataframe has 3000 tweets\n"
          ]
        },
        {
          "output_type": "execute_result",
          "data": {
            "text/plain": [
              "   Unnamed: 0                created_at screen_name  \\\n",
              "0           0  2022-01-28T22:03:44.000Z        Oreo   \n",
              "1           1  2022-01-28T21:36:06.000Z        Oreo   \n",
              "2           2  2022-01-28T21:08:25.000Z        Oreo   \n",
              "3           3  2022-01-28T20:31:27.000Z        Oreo   \n",
              "4           4  2022-01-28T19:25:47.000Z        Oreo   \n",
              "\n",
              "                                                                                                                                                                                    text  \\\n",
              "0    @_JuiceJones What happened there? Let's fix this. Could you send us a DM with the package's UPC and expiration date, incl. the numbers/letters that follow? https://t.co/2mOFfNnQW0   \n",
              "1                                                                                                                                                    @ZeqoeR6 That's the best we have. 🤔   \n",
              "2                                                                                                     @gagadaily the day all of our lives changed! truly iconic. https://t.co/zbJM37xbty   \n",
              "3                                                                           @mswizzle44 They're available nationwide! We recommend checking larger retailers like Walmart in your area 🤞   \n",
              "4  @YaBoyShizo We'd like to get to the bottom of this! Could you send us a DM with the package's UPC and expiration date, incl. the numbers/letters that follow? https://t.co/2mOFfNnQW0   \n",
              "\n",
              "  lang  retweet_count  reply_count  like_count  quote_count  \\\n",
              "0   en              1            0           1            0   \n",
              "1   en              0            2           6            0   \n",
              "2   en             16            5         277            1   \n",
              "3   en              0            2           1            0   \n",
              "4   en              0            0           0            0   \n",
              "\n",
              "                    id  author_id      conversation_id  in_reply_to_user_id  \\\n",
              "0  1487184644600737794  126084292  1486849965955727364         8.274650e+07   \n",
              "1  1487177690226597893  126084292  1486831768846188550         2.860886e+09   \n",
              "2  1487170722166452224  126084292  1487135476972761094         2.437448e+07   \n",
              "3  1487161422895366146  126084292  1486714137996529666         4.646480e+09   \n",
              "4  1487144893436895246  126084292  1486534320894455810         2.333453e+08   \n",
              "\n",
              "    geo  sentiment  \n",
              "0  None   2.102369  \n",
              "1  None   4.848118  \n",
              "2  None   4.775955  \n",
              "3  None   4.485816  \n",
              "4  None   2.268613  "
            ],
            "text/html": [
              "\n",
              "  <div id=\"df-ff36e7d2-f4a4-4ea6-93e5-1ed8e56ea86c\" class=\"colab-df-container\">\n",
              "    <div>\n",
              "<style scoped>\n",
              "    .dataframe tbody tr th:only-of-type {\n",
              "        vertical-align: middle;\n",
              "    }\n",
              "\n",
              "    .dataframe tbody tr th {\n",
              "        vertical-align: top;\n",
              "    }\n",
              "\n",
              "    .dataframe thead th {\n",
              "        text-align: right;\n",
              "    }\n",
              "</style>\n",
              "<table border=\"1\" class=\"dataframe\">\n",
              "  <thead>\n",
              "    <tr style=\"text-align: right;\">\n",
              "      <th></th>\n",
              "      <th>Unnamed: 0</th>\n",
              "      <th>created_at</th>\n",
              "      <th>screen_name</th>\n",
              "      <th>text</th>\n",
              "      <th>lang</th>\n",
              "      <th>retweet_count</th>\n",
              "      <th>reply_count</th>\n",
              "      <th>like_count</th>\n",
              "      <th>quote_count</th>\n",
              "      <th>id</th>\n",
              "      <th>author_id</th>\n",
              "      <th>conversation_id</th>\n",
              "      <th>in_reply_to_user_id</th>\n",
              "      <th>geo</th>\n",
              "      <th>sentiment</th>\n",
              "    </tr>\n",
              "  </thead>\n",
              "  <tbody>\n",
              "    <tr>\n",
              "      <th>0</th>\n",
              "      <td>0</td>\n",
              "      <td>2022-01-28T22:03:44.000Z</td>\n",
              "      <td>Oreo</td>\n",
              "      <td>@_JuiceJones What happened there? Let's fix this. Could you send us a DM with the package's UPC and expiration date, incl. the numbers/letters that follow? https://t.co/2mOFfNnQW0</td>\n",
              "      <td>en</td>\n",
              "      <td>1</td>\n",
              "      <td>0</td>\n",
              "      <td>1</td>\n",
              "      <td>0</td>\n",
              "      <td>1487184644600737794</td>\n",
              "      <td>126084292</td>\n",
              "      <td>1486849965955727364</td>\n",
              "      <td>8.274650e+07</td>\n",
              "      <td>None</td>\n",
              "      <td>2.102369</td>\n",
              "    </tr>\n",
              "    <tr>\n",
              "      <th>1</th>\n",
              "      <td>1</td>\n",
              "      <td>2022-01-28T21:36:06.000Z</td>\n",
              "      <td>Oreo</td>\n",
              "      <td>@ZeqoeR6 That's the best we have. 🤔</td>\n",
              "      <td>en</td>\n",
              "      <td>0</td>\n",
              "      <td>2</td>\n",
              "      <td>6</td>\n",
              "      <td>0</td>\n",
              "      <td>1487177690226597893</td>\n",
              "      <td>126084292</td>\n",
              "      <td>1486831768846188550</td>\n",
              "      <td>2.860886e+09</td>\n",
              "      <td>None</td>\n",
              "      <td>4.848118</td>\n",
              "    </tr>\n",
              "    <tr>\n",
              "      <th>2</th>\n",
              "      <td>2</td>\n",
              "      <td>2022-01-28T21:08:25.000Z</td>\n",
              "      <td>Oreo</td>\n",
              "      <td>@gagadaily the day all of our lives changed! truly iconic. https://t.co/zbJM37xbty</td>\n",
              "      <td>en</td>\n",
              "      <td>16</td>\n",
              "      <td>5</td>\n",
              "      <td>277</td>\n",
              "      <td>1</td>\n",
              "      <td>1487170722166452224</td>\n",
              "      <td>126084292</td>\n",
              "      <td>1487135476972761094</td>\n",
              "      <td>2.437448e+07</td>\n",
              "      <td>None</td>\n",
              "      <td>4.775955</td>\n",
              "    </tr>\n",
              "    <tr>\n",
              "      <th>3</th>\n",
              "      <td>3</td>\n",
              "      <td>2022-01-28T20:31:27.000Z</td>\n",
              "      <td>Oreo</td>\n",
              "      <td>@mswizzle44 They're available nationwide! We recommend checking larger retailers like Walmart in your area 🤞</td>\n",
              "      <td>en</td>\n",
              "      <td>0</td>\n",
              "      <td>2</td>\n",
              "      <td>1</td>\n",
              "      <td>0</td>\n",
              "      <td>1487161422895366146</td>\n",
              "      <td>126084292</td>\n",
              "      <td>1486714137996529666</td>\n",
              "      <td>4.646480e+09</td>\n",
              "      <td>None</td>\n",
              "      <td>4.485816</td>\n",
              "    </tr>\n",
              "    <tr>\n",
              "      <th>4</th>\n",
              "      <td>4</td>\n",
              "      <td>2022-01-28T19:25:47.000Z</td>\n",
              "      <td>Oreo</td>\n",
              "      <td>@YaBoyShizo We'd like to get to the bottom of this! Could you send us a DM with the package's UPC and expiration date, incl. the numbers/letters that follow? https://t.co/2mOFfNnQW0</td>\n",
              "      <td>en</td>\n",
              "      <td>0</td>\n",
              "      <td>0</td>\n",
              "      <td>0</td>\n",
              "      <td>0</td>\n",
              "      <td>1487144893436895246</td>\n",
              "      <td>126084292</td>\n",
              "      <td>1486534320894455810</td>\n",
              "      <td>2.333453e+08</td>\n",
              "      <td>None</td>\n",
              "      <td>2.268613</td>\n",
              "    </tr>\n",
              "  </tbody>\n",
              "</table>\n",
              "</div>\n",
              "    <div class=\"colab-df-buttons\">\n",
              "\n",
              "  <div class=\"colab-df-container\">\n",
              "    <button class=\"colab-df-convert\" onclick=\"convertToInteractive('df-ff36e7d2-f4a4-4ea6-93e5-1ed8e56ea86c')\"\n",
              "            title=\"Convert this dataframe to an interactive table.\"\n",
              "            style=\"display:none;\">\n",
              "\n",
              "  <svg xmlns=\"http://www.w3.org/2000/svg\" height=\"24px\" viewBox=\"0 -960 960 960\">\n",
              "    <path d=\"M120-120v-720h720v720H120Zm60-500h600v-160H180v160Zm220 220h160v-160H400v160Zm0 220h160v-160H400v160ZM180-400h160v-160H180v160Zm440 0h160v-160H620v160ZM180-180h160v-160H180v160Zm440 0h160v-160H620v160Z\"/>\n",
              "  </svg>\n",
              "    </button>\n",
              "\n",
              "  <style>\n",
              "    .colab-df-container {\n",
              "      display:flex;\n",
              "      gap: 12px;\n",
              "    }\n",
              "\n",
              "    .colab-df-convert {\n",
              "      background-color: #E8F0FE;\n",
              "      border: none;\n",
              "      border-radius: 50%;\n",
              "      cursor: pointer;\n",
              "      display: none;\n",
              "      fill: #1967D2;\n",
              "      height: 32px;\n",
              "      padding: 0 0 0 0;\n",
              "      width: 32px;\n",
              "    }\n",
              "\n",
              "    .colab-df-convert:hover {\n",
              "      background-color: #E2EBFA;\n",
              "      box-shadow: 0px 1px 2px rgba(60, 64, 67, 0.3), 0px 1px 3px 1px rgba(60, 64, 67, 0.15);\n",
              "      fill: #174EA6;\n",
              "    }\n",
              "\n",
              "    .colab-df-buttons div {\n",
              "      margin-bottom: 4px;\n",
              "    }\n",
              "\n",
              "    [theme=dark] .colab-df-convert {\n",
              "      background-color: #3B4455;\n",
              "      fill: #D2E3FC;\n",
              "    }\n",
              "\n",
              "    [theme=dark] .colab-df-convert:hover {\n",
              "      background-color: #434B5C;\n",
              "      box-shadow: 0px 1px 3px 1px rgba(0, 0, 0, 0.15);\n",
              "      filter: drop-shadow(0px 1px 2px rgba(0, 0, 0, 0.3));\n",
              "      fill: #FFFFFF;\n",
              "    }\n",
              "  </style>\n",
              "\n",
              "    <script>\n",
              "      const buttonEl =\n",
              "        document.querySelector('#df-ff36e7d2-f4a4-4ea6-93e5-1ed8e56ea86c button.colab-df-convert');\n",
              "      buttonEl.style.display =\n",
              "        google.colab.kernel.accessAllowed ? 'block' : 'none';\n",
              "\n",
              "      async function convertToInteractive(key) {\n",
              "        const element = document.querySelector('#df-ff36e7d2-f4a4-4ea6-93e5-1ed8e56ea86c');\n",
              "        const dataTable =\n",
              "          await google.colab.kernel.invokeFunction('convertToInteractive',\n",
              "                                                    [key], {});\n",
              "        if (!dataTable) return;\n",
              "\n",
              "        const docLinkHtml = 'Like what you see? Visit the ' +\n",
              "          '<a target=\"_blank\" href=https://colab.research.google.com/notebooks/data_table.ipynb>data table notebook</a>'\n",
              "          + ' to learn more about interactive tables.';\n",
              "        element.innerHTML = '';\n",
              "        dataTable['output_type'] = 'display_data';\n",
              "        await google.colab.output.renderOutput(dataTable, element);\n",
              "        const docLink = document.createElement('div');\n",
              "        docLink.innerHTML = docLinkHtml;\n",
              "        element.appendChild(docLink);\n",
              "      }\n",
              "    </script>\n",
              "  </div>\n",
              "\n",
              "\n",
              "<div id=\"df-83b99e0d-c34a-4314-b988-1163f3917379\">\n",
              "  <button class=\"colab-df-quickchart\" onclick=\"quickchart('df-83b99e0d-c34a-4314-b988-1163f3917379')\"\n",
              "            title=\"Suggest charts\"\n",
              "            style=\"display:none;\">\n",
              "\n",
              "<svg xmlns=\"http://www.w3.org/2000/svg\" height=\"24px\"viewBox=\"0 0 24 24\"\n",
              "     width=\"24px\">\n",
              "    <g>\n",
              "        <path d=\"M19 3H5c-1.1 0-2 .9-2 2v14c0 1.1.9 2 2 2h14c1.1 0 2-.9 2-2V5c0-1.1-.9-2-2-2zM9 17H7v-7h2v7zm4 0h-2V7h2v10zm4 0h-2v-4h2v4z\"/>\n",
              "    </g>\n",
              "</svg>\n",
              "  </button>\n",
              "\n",
              "<style>\n",
              "  .colab-df-quickchart {\n",
              "      --bg-color: #E8F0FE;\n",
              "      --fill-color: #1967D2;\n",
              "      --hover-bg-color: #E2EBFA;\n",
              "      --hover-fill-color: #174EA6;\n",
              "      --disabled-fill-color: #AAA;\n",
              "      --disabled-bg-color: #DDD;\n",
              "  }\n",
              "\n",
              "  [theme=dark] .colab-df-quickchart {\n",
              "      --bg-color: #3B4455;\n",
              "      --fill-color: #D2E3FC;\n",
              "      --hover-bg-color: #434B5C;\n",
              "      --hover-fill-color: #FFFFFF;\n",
              "      --disabled-bg-color: #3B4455;\n",
              "      --disabled-fill-color: #666;\n",
              "  }\n",
              "\n",
              "  .colab-df-quickchart {\n",
              "    background-color: var(--bg-color);\n",
              "    border: none;\n",
              "    border-radius: 50%;\n",
              "    cursor: pointer;\n",
              "    display: none;\n",
              "    fill: var(--fill-color);\n",
              "    height: 32px;\n",
              "    padding: 0;\n",
              "    width: 32px;\n",
              "  }\n",
              "\n",
              "  .colab-df-quickchart:hover {\n",
              "    background-color: var(--hover-bg-color);\n",
              "    box-shadow: 0 1px 2px rgba(60, 64, 67, 0.3), 0 1px 3px 1px rgba(60, 64, 67, 0.15);\n",
              "    fill: var(--button-hover-fill-color);\n",
              "  }\n",
              "\n",
              "  .colab-df-quickchart-complete:disabled,\n",
              "  .colab-df-quickchart-complete:disabled:hover {\n",
              "    background-color: var(--disabled-bg-color);\n",
              "    fill: var(--disabled-fill-color);\n",
              "    box-shadow: none;\n",
              "  }\n",
              "\n",
              "  .colab-df-spinner {\n",
              "    border: 2px solid var(--fill-color);\n",
              "    border-color: transparent;\n",
              "    border-bottom-color: var(--fill-color);\n",
              "    animation:\n",
              "      spin 1s steps(1) infinite;\n",
              "  }\n",
              "\n",
              "  @keyframes spin {\n",
              "    0% {\n",
              "      border-color: transparent;\n",
              "      border-bottom-color: var(--fill-color);\n",
              "      border-left-color: var(--fill-color);\n",
              "    }\n",
              "    20% {\n",
              "      border-color: transparent;\n",
              "      border-left-color: var(--fill-color);\n",
              "      border-top-color: var(--fill-color);\n",
              "    }\n",
              "    30% {\n",
              "      border-color: transparent;\n",
              "      border-left-color: var(--fill-color);\n",
              "      border-top-color: var(--fill-color);\n",
              "      border-right-color: var(--fill-color);\n",
              "    }\n",
              "    40% {\n",
              "      border-color: transparent;\n",
              "      border-right-color: var(--fill-color);\n",
              "      border-top-color: var(--fill-color);\n",
              "    }\n",
              "    60% {\n",
              "      border-color: transparent;\n",
              "      border-right-color: var(--fill-color);\n",
              "    }\n",
              "    80% {\n",
              "      border-color: transparent;\n",
              "      border-right-color: var(--fill-color);\n",
              "      border-bottom-color: var(--fill-color);\n",
              "    }\n",
              "    90% {\n",
              "      border-color: transparent;\n",
              "      border-bottom-color: var(--fill-color);\n",
              "    }\n",
              "  }\n",
              "</style>\n",
              "\n",
              "  <script>\n",
              "    async function quickchart(key) {\n",
              "      const quickchartButtonEl =\n",
              "        document.querySelector('#' + key + ' button');\n",
              "      quickchartButtonEl.disabled = true;  // To prevent multiple clicks.\n",
              "      quickchartButtonEl.classList.add('colab-df-spinner');\n",
              "      try {\n",
              "        const charts = await google.colab.kernel.invokeFunction(\n",
              "            'suggestCharts', [key], {});\n",
              "      } catch (error) {\n",
              "        console.error('Error during call to suggestCharts:', error);\n",
              "      }\n",
              "      quickchartButtonEl.classList.remove('colab-df-spinner');\n",
              "      quickchartButtonEl.classList.add('colab-df-quickchart-complete');\n",
              "    }\n",
              "    (() => {\n",
              "      let quickchartButtonEl =\n",
              "        document.querySelector('#df-83b99e0d-c34a-4314-b988-1163f3917379 button');\n",
              "      quickchartButtonEl.style.display =\n",
              "        google.colab.kernel.accessAllowed ? 'block' : 'none';\n",
              "    })();\n",
              "  </script>\n",
              "</div>\n",
              "\n",
              "    </div>\n",
              "  </div>\n"
            ],
            "application/vnd.google.colaboratory.intrinsic+json": {
              "type": "dataframe",
              "variable_name": "df",
              "repr_error": "'str' object has no attribute 'empty'"
            }
          },
          "metadata": {},
          "execution_count": 5
        }
      ],
      "source": [
        "fname = \"data/oreo_sentiment.csv\"\n",
        "\n",
        "df = pd.read_csv(fname)\n",
        "ntweets = len(df)\n",
        "print(f\"dataframe has {ntweets} tweets\")\n",
        "df.screen_name.unique()\n",
        "df.head()"
      ]
    },
    {
      "cell_type": "markdown",
      "metadata": {
        "id": "w4PeV6XQd2Ki"
      },
      "source": [
        "## 2. (10 points) Cluster tweets\n",
        "\n",
        "Clean the text with the `clean_tweet` function and calculate the tf embedding.  Then calculate the two dimensional UMAP embedding of this embedding.  Finally, use k-means to cluster the UMAP embeddings into `k=4` clusters.  Make a count plot of the number of tweets in each cluster and a bar plot of the mean sentiment per cluster, with proper axis labels and title.  This question might look familiar to you (check a previous homework)."
      ]
    },
    {
      "cell_type": "code",
      "execution_count": null,
      "metadata": {
        "id": "q4bLvPmBiQIZ"
      },
      "outputs": [],
      "source": [
        "#Clean_tweet\n",
        "df['text_clean'] = df['text'].apply(ta.clean_tweet)  #clean the tweets\n",
        "df = df[df['text_clean'].str.len() >0]  #remove cleaned tweets of lenght 0"
      ]
    },
    {
      "cell_type": "code",
      "source": [
        "#Calculate the tf embedding\n",
        "tf_vectorizer = CountVectorizer(min_df=5, stop_words='english')\n",
        "tf_embedding = tf_vectorizer.fit_transform(df['text_clean'])\n",
        "tf_feature_names = tf_vectorizer.get_feature_names_out()\n",
        "\n",
        "nvocab = len(tf_feature_names)\n",
        "ntweets = len(df.text_clean)\n",
        "print(f\"{ntweets} tweets, {nvocab} words in vocabulary\")\n",
        "print(f\"TF embedding shape is {tf_embedding.shape}\")"
      ],
      "metadata": {
        "colab": {
          "base_uri": "https://localhost:8080/"
        },
        "id": "3coA6TETcu_y",
        "outputId": "9c76d475-e2c7-4993-c0e2-2f3b5683289b"
      },
      "execution_count": null,
      "outputs": [
        {
          "output_type": "stream",
          "name": "stdout",
          "text": [
            "2995 tweets, 516 words in vocabulary\n",
            "TF embedding shape is (2995, 516)\n"
          ]
        }
      ]
    },
    {
      "cell_type": "code",
      "source": [
        "# prompt: Calculate the two dimensional UMAP embedding of this embedding\n",
        "\n",
        "umap_embedding = UMAP(n_components=2, min_dist=0.0, metric='cosine').fit_transform(tf_embedding.toarray())\n"
      ],
      "metadata": {
        "id": "nIsUR4HPdlii"
      },
      "execution_count": null,
      "outputs": []
    },
    {
      "cell_type": "code",
      "source": [
        "# prompt: use k-means to cluster the UMAP embeddings into k=4 clusters\n",
        "\n",
        "kmeans = cluster.KMeans(n_clusters=4, random_state=0).fit(umap_embedding)\n"
      ],
      "metadata": {
        "colab": {
          "base_uri": "https://localhost:8080/"
        },
        "id": "xRZbpWvdeFJ5",
        "outputId": "89417dad-b929-4a28-cb37-c23e200a3b4c"
      },
      "execution_count": null,
      "outputs": [
        {
          "output_type": "stream",
          "name": "stderr",
          "text": [
            "/usr/local/lib/python3.10/dist-packages/sklearn/cluster/_kmeans.py:870: FutureWarning: The default value of `n_init` will change from 10 to 'auto' in 1.4. Set the value of `n_init` explicitly to suppress the warning\n",
            "  warnings.warn(\n"
          ]
        }
      ]
    },
    {
      "cell_type": "code",
      "source": [
        "# prompt: Make a count plot of the number of tweets in each cluster and a bar plot of the mean sentiment per cluster, with proper axis labels and title\n",
        "\n",
        "import matplotlib.pyplot as plt\n",
        "# Count plot of the number of tweets in each cluster\n",
        "sns.countplot(x=kmeans.labels_, data=df)\n",
        "plt.xlabel('Cluster')\n",
        "plt.ylabel('Number of tweets')\n",
        "plt.title('Number of tweets in each cluster')\n",
        "plt.show()\n",
        "\n",
        "# Bar plot of the mean sentiment per cluster\n",
        "mean_sentiment = df.groupby(kmeans.labels_)['sentiment'].mean()\n",
        "mean_sentiment.plot(kind='bar')\n",
        "plt.xlabel('Cluster')\n",
        "plt.ylabel('Mean sentiment')\n",
        "plt.title('Mean sentiment per cluster')\n",
        "plt.show()\n"
      ],
      "metadata": {
        "colab": {
          "base_uri": "https://localhost:8080/",
          "height": 1000
        },
        "id": "kHPSDI9aeKkP",
        "outputId": "c0e964c9-c60e-4a89-9cb3-500d654ac969"
      },
      "execution_count": null,
      "outputs": [
        {
          "output_type": "display_data",
          "data": {
            "text/plain": [
              "<Figure size 800x600 with 1 Axes>"
            ],
            "image/png": "[encoded data removed]"
          },
          "metadata": {}
        },
        {
          "output_type": "display_data",
          "data": {
            "text/plain": [
              "<Figure size 800x600 with 1 Axes>"
            ],
            "image/png": "[encoded data removed]"
          },
          "metadata": {}
        }
      ]
    },
    {
      "cell_type": "markdown",
      "metadata": {
        "id": "mlXQab8Qgzx_"
      },
      "source": [
        "## 3. (4 points) Plot mean sentiment vs mean retweet count per cluster\n",
        "\n",
        "Make a scatterplot of the mean sentiment  vs the mean retweet count of each k-means cluster.  Set the marker size to 1000.   Make sure to add axes labels and a title to the figure.  "
      ]
    },
    {
      "cell_type": "code",
      "execution_count": null,
      "metadata": {
        "id": "Df9d1XC4hUpC",
        "colab": {
          "base_uri": "https://localhost:8080/",
          "height": 579
        },
        "outputId": "910cad3a-a14c-4143-a397-cda1861927bd"
      },
      "outputs": [
        {
          "output_type": "display_data",
          "data": {
            "text/plain": [
              "<Figure size 800x600 with 1 Axes>"
            ],
            "image/png": "[encoded data removed]"
          },
          "metadata": {}
        }
      ],
      "source": [
        "# prompt: Make a scatterplot of the mean sentiment vs the mean retweet count of each k-means cluster. Set the marker size to 1000. Make sure to add axes labels and a title to the figure.\n",
        "\n",
        "import matplotlib.pyplot as plt\n",
        "# Calculate the mean sentiment and mean retweet count for each cluster\n",
        "mean_sentiment = df.groupby(kmeans.labels_)['sentiment'].mean()\n",
        "mean_retweets = df.groupby(kmeans.labels_)['retweet_count'].mean()\n",
        "\n",
        "# Create a scatterplot of mean sentiment vs mean retweet count\n",
        "plt.scatter(mean_sentiment, mean_retweets, s=1000)\n",
        "plt.xlabel('Mean Sentiment')\n",
        "plt.ylabel('Mean Retweet Count')\n",
        "plt.title('Mean Sentiment vs Mean Retweet Count per Cluster')\n",
        "plt.show()\n"
      ]
    },
    {
      "cell_type": "markdown",
      "metadata": {
        "id": "dCgePRNtjU5d"
      },
      "source": [
        "## 4. (4 points) Correlation of retweet count and sentiment\n",
        "\n",
        "Calculate the Pearson correlation coefficient of the mean sentiment and mean retweet count of the clusters.  Print the coefficient and p-value up to three decimal points.  Is the correlation significant at a 1% level?"
      ]
    },
    {
      "cell_type": "code",
      "execution_count": null,
      "metadata": {
        "id": "zCmvgLqRh5s4",
        "colab": {
          "base_uri": "https://localhost:8080/"
        },
        "outputId": "2d63043f-7645-446d-f2ff-4647f69d8026"
      },
      "outputs": [
        {
          "output_type": "stream",
          "name": "stdout",
          "text": [
            "Pearson correlation coefficient: 0.837\n",
            "p-value: 0.163\n",
            "The correlation is not significant at a 1% level.\n"
          ]
        }
      ],
      "source": [
        "# prompt: Calculate the Pearson correlation coefficient of the mean sentiment and mean retweet count of the clusters. Print the coefficient and p-value up to three decimal points. Is the correlation significant at a 1% level?\n",
        "\n",
        "# Calculate the Pearson correlation coefficient\n",
        "corr, pval = stats.pearsonr(mean_sentiment, mean_retweets)\n",
        "\n",
        "# Print the coefficient and p-value\n",
        "print(f\"Pearson correlation coefficient: {corr:.3f}\")\n",
        "print(f\"p-value: {pval:.3f}\")\n",
        "\n",
        "# Is the correlation significant at a 1% level?\n",
        "if pval < 0.01:\n",
        "    print(\"The correlation is significant at a 1% level.\")\n",
        "else:\n",
        "    print(\"The correlation is not significant at a 1% level.\")\n"
      ]
    },
    {
      "cell_type": "markdown",
      "metadata": {
        "id": "5ND8bw3jlUBG"
      },
      "source": [
        "## 5. (10 points) T-test of cluster sentiment\n",
        "\n",
        "Find the clusters with the lowest and highest mean sentiment and print their cluster label so we know who you are checking.  Then use a t-test to determine if these mean sentiments are different at a 1% level.  Print your t-statistics, pvalues, and whether it is significant."
      ]
    },
    {
      "cell_type": "code",
      "source": [
        "import pandas as pd\n",
        "from scipy import stats\n",
        "\n",
        "# Assuming df is your DataFrame and kmeans is your trained KMeans model\n",
        "\n",
        "# Add the cluster labels to your DataFrame\n",
        "df['cluster'] = kmeans.labels_\n",
        "\n",
        "# Now your code for finding clusters with the lowest and highest mean sentiment\n",
        "cluster_sentiment = df.groupby('cluster')['sentiment'].mean()\n",
        "lowest_cluster = cluster_sentiment.idxmin()\n",
        "highest_cluster = cluster_sentiment.idxmax()\n",
        "\n",
        "print(f\"Cluster with lowest mean sentiment: {lowest_cluster}, mean sentiment: {cluster_sentiment[lowest_cluster]:.3f}\")\n",
        "print(f\"Cluster with highest mean sentiment: {highest_cluster}, mean sentiment: {cluster_sentiment[highest_cluster]:.3f}\")\n",
        "\n",
        "# Extract the sentiment values for the lowest and highest mean sentiment clusters\n",
        "cluster_lowest_sentiment = df[df['cluster'] == lowest_cluster]['sentiment']\n",
        "cluster_highest_sentiment = df[df['cluster'] == highest_cluster]['sentiment']\n",
        "\n",
        "# Perform a t-test to compare the mean sentiment of the two clusters\n",
        "t_stat, pval = stats.ttest_ind(cluster_lowest_sentiment, cluster_highest_sentiment, equal_var=False) # Assuming unequal variance\n",
        "\n",
        "# Print the results\n",
        "print(f\"t-statistic: {t_stat:.3f}, p-value: {pval:.3f}\")\n",
        "\n",
        "# Check for significance at a 1% level\n",
        "if pval < 0.01:\n",
        "    print(\"The mean sentiments of the two clusters are significantly different at a 1% level.\")\n",
        "else:\n",
        "    print(\"The mean sentiments of the two clusters are not significantly different at a 1% level.\")\n"
      ],
      "metadata": {
        "colab": {
          "base_uri": "https://localhost:8080/"
        },
        "id": "d8Isdd9lfMNh",
        "outputId": "91b88884-1eff-48d3-b51e-221f0882eb4c"
      },
      "execution_count": null,
      "outputs": [
        {
          "output_type": "stream",
          "name": "stdout",
          "text": [
            "Cluster with lowest mean sentiment: 0, mean sentiment: 2.615\n",
            "Cluster with highest mean sentiment: 1, mean sentiment: 3.363\n",
            "t-statistic: -22.673, p-value: 0.000\n",
            "The mean sentiments of the two clusters are significantly different at a 1% level.\n"
          ]
        }
      ]
    },
    {
      "cell_type": "markdown",
      "metadata": {
        "id": "Y-3xoHR1qWzR"
      },
      "source": [
        "# Problem 2. (34 points) Tweet Keywords and Retweet Count\n",
        "\n",
        "We will look at the retweet count as a function of the keyword in a tweet."
      ]
    },
    {
      "cell_type": "markdown",
      "metadata": {
        "id": "4Lw0cA2N_-Wg"
      },
      "source": [
        "## 1. (2 points) Load data\n",
        "\n",
        "Load the tweets in the file `\"data/oreo_sentiment.csv\"` into a dataframe. Print out the head of this dataframe so we know you did it right."
      ]
    },
    {
      "cell_type": "code",
      "execution_count": null,
      "metadata": {
        "id": "7zNxhJVq__lB",
        "colab": {
          "base_uri": "https://localhost:8080/",
          "height": 643
        },
        "outputId": "cb7986ab-eed8-4bed-ba3b-28dc8ebb0512"
      },
      "outputs": [
        {
          "output_type": "stream",
          "name": "stdout",
          "text": [
            "dataframe has 3000 tweets\n"
          ]
        },
        {
          "output_type": "execute_result",
          "data": {
            "text/plain": [
              "   Unnamed: 0                created_at screen_name  \\\n",
              "0           0  2022-01-28T22:03:44.000Z        Oreo   \n",
              "1           1  2022-01-28T21:36:06.000Z        Oreo   \n",
              "2           2  2022-01-28T21:08:25.000Z        Oreo   \n",
              "3           3  2022-01-28T20:31:27.000Z        Oreo   \n",
              "4           4  2022-01-28T19:25:47.000Z        Oreo   \n",
              "\n",
              "                                                                                                                                                                                    text  \\\n",
              "0    @_JuiceJones What happened there? Let's fix this. Could you send us a DM with the package's UPC and expiration date, incl. the numbers/letters that follow? https://t.co/2mOFfNnQW0   \n",
              "1                                                                                                                                                    @ZeqoeR6 That's the best we have. 🤔   \n",
              "2                                                                                                     @gagadaily the day all of our lives changed! truly iconic. https://t.co/zbJM37xbty   \n",
              "3                                                                           @mswizzle44 They're available nationwide! We recommend checking larger retailers like Walmart in your area 🤞   \n",
              "4  @YaBoyShizo We'd like to get to the bottom of this! Could you send us a DM with the package's UPC and expiration date, incl. the numbers/letters that follow? https://t.co/2mOFfNnQW0   \n",
              "\n",
              "  lang  retweet_count  reply_count  like_count  quote_count  \\\n",
              "0   en              1            0           1            0   \n",
              "1   en              0            2           6            0   \n",
              "2   en             16            5         277            1   \n",
              "3   en              0            2           1            0   \n",
              "4   en              0            0           0            0   \n",
              "\n",
              "                    id  author_id      conversation_id  in_reply_to_user_id  \\\n",
              "0  1487184644600737794  126084292  1486849965955727364         8.274650e+07   \n",
              "1  1487177690226597893  126084292  1486831768846188550         2.860886e+09   \n",
              "2  1487170722166452224  126084292  1487135476972761094         2.437448e+07   \n",
              "3  1487161422895366146  126084292  1486714137996529666         4.646480e+09   \n",
              "4  1487144893436895246  126084292  1486534320894455810         2.333453e+08   \n",
              "\n",
              "    geo  sentiment  \n",
              "0  None   2.102369  \n",
              "1  None   4.848118  \n",
              "2  None   4.775955  \n",
              "3  None   4.485816  \n",
              "4  None   2.268613  "
            ],
            "text/html": [
              "\n",
              "  <div id=\"df-d160d4d5-2317-4f56-8fe3-cdc05c213e19\" class=\"colab-df-container\">\n",
              "    <div>\n",
              "<style scoped>\n",
              "    .dataframe tbody tr th:only-of-type {\n",
              "        vertical-align: middle;\n",
              "    }\n",
              "\n",
              "    .dataframe tbody tr th {\n",
              "        vertical-align: top;\n",
              "    }\n",
              "\n",
              "    .dataframe thead th {\n",
              "        text-align: right;\n",
              "    }\n",
              "</style>\n",
              "<table border=\"1\" class=\"dataframe\">\n",
              "  <thead>\n",
              "    <tr style=\"text-align: right;\">\n",
              "      <th></th>\n",
              "      <th>Unnamed: 0</th>\n",
              "      <th>created_at</th>\n",
              "      <th>screen_name</th>\n",
              "      <th>text</th>\n",
              "      <th>lang</th>\n",
              "      <th>retweet_count</th>\n",
              "      <th>reply_count</th>\n",
              "      <th>like_count</th>\n",
              "      <th>quote_count</th>\n",
              "      <th>id</th>\n",
              "      <th>author_id</th>\n",
              "      <th>conversation_id</th>\n",
              "      <th>in_reply_to_user_id</th>\n",
              "      <th>geo</th>\n",
              "      <th>sentiment</th>\n",
              "    </tr>\n",
              "  </thead>\n",
              "  <tbody>\n",
              "    <tr>\n",
              "      <th>0</th>\n",
              "      <td>0</td>\n",
              "      <td>2022-01-28T22:03:44.000Z</td>\n",
              "      <td>Oreo</td>\n",
              "      <td>@_JuiceJones What happened there? Let's fix this. Could you send us a DM with the package's UPC and expiration date, incl. the numbers/letters that follow? https://t.co/2mOFfNnQW0</td>\n",
              "      <td>en</td>\n",
              "      <td>1</td>\n",
              "      <td>0</td>\n",
              "      <td>1</td>\n",
              "      <td>0</td>\n",
              "      <td>1487184644600737794</td>\n",
              "      <td>126084292</td>\n",
              "      <td>1486849965955727364</td>\n",
              "      <td>8.274650e+07</td>\n",
              "      <td>None</td>\n",
              "      <td>2.102369</td>\n",
              "    </tr>\n",
              "    <tr>\n",
              "      <th>1</th>\n",
              "      <td>1</td>\n",
              "      <td>2022-01-28T21:36:06.000Z</td>\n",
              "      <td>Oreo</td>\n",
              "      <td>@ZeqoeR6 That's the best we have. 🤔</td>\n",
              "      <td>en</td>\n",
              "      <td>0</td>\n",
              "      <td>2</td>\n",
              "      <td>6</td>\n",
              "      <td>0</td>\n",
              "      <td>1487177690226597893</td>\n",
              "      <td>126084292</td>\n",
              "      <td>1486831768846188550</td>\n",
              "      <td>2.860886e+09</td>\n",
              "      <td>None</td>\n",
              "      <td>4.848118</td>\n",
              "    </tr>\n",
              "    <tr>\n",
              "      <th>2</th>\n",
              "      <td>2</td>\n",
              "      <td>2022-01-28T21:08:25.000Z</td>\n",
              "      <td>Oreo</td>\n",
              "      <td>@gagadaily the day all of our lives changed! truly iconic. https://t.co/zbJM37xbty</td>\n",
              "      <td>en</td>\n",
              "      <td>16</td>\n",
              "      <td>5</td>\n",
              "      <td>277</td>\n",
              "      <td>1</td>\n",
              "      <td>1487170722166452224</td>\n",
              "      <td>126084292</td>\n",
              "      <td>1487135476972761094</td>\n",
              "      <td>2.437448e+07</td>\n",
              "      <td>None</td>\n",
              "      <td>4.775955</td>\n",
              "    </tr>\n",
              "    <tr>\n",
              "      <th>3</th>\n",
              "      <td>3</td>\n",
              "      <td>2022-01-28T20:31:27.000Z</td>\n",
              "      <td>Oreo</td>\n",
              "      <td>@mswizzle44 They're available nationwide! We recommend checking larger retailers like Walmart in your area 🤞</td>\n",
              "      <td>en</td>\n",
              "      <td>0</td>\n",
              "      <td>2</td>\n",
              "      <td>1</td>\n",
              "      <td>0</td>\n",
              "      <td>1487161422895366146</td>\n",
              "      <td>126084292</td>\n",
              "      <td>1486714137996529666</td>\n",
              "      <td>4.646480e+09</td>\n",
              "      <td>None</td>\n",
              "      <td>4.485816</td>\n",
              "    </tr>\n",
              "    <tr>\n",
              "      <th>4</th>\n",
              "      <td>4</td>\n",
              "      <td>2022-01-28T19:25:47.000Z</td>\n",
              "      <td>Oreo</td>\n",
              "      <td>@YaBoyShizo We'd like to get to the bottom of this! Could you send us a DM with the package's UPC and expiration date, incl. the numbers/letters that follow? https://t.co/2mOFfNnQW0</td>\n",
              "      <td>en</td>\n",
              "      <td>0</td>\n",
              "      <td>0</td>\n",
              "      <td>0</td>\n",
              "      <td>0</td>\n",
              "      <td>1487144893436895246</td>\n",
              "      <td>126084292</td>\n",
              "      <td>1486534320894455810</td>\n",
              "      <td>2.333453e+08</td>\n",
              "      <td>None</td>\n",
              "      <td>2.268613</td>\n",
              "    </tr>\n",
              "  </tbody>\n",
              "</table>\n",
              "</div>\n",
              "    <div class=\"colab-df-buttons\">\n",
              "\n",
              "  <div class=\"colab-df-container\">\n",
              "    <button class=\"colab-df-convert\" onclick=\"convertToInteractive('df-d160d4d5-2317-4f56-8fe3-cdc05c213e19')\"\n",
              "            title=\"Convert this dataframe to an interactive table.\"\n",
              "            style=\"display:none;\">\n",
              "\n",
              "  <svg xmlns=\"http://www.w3.org/2000/svg\" height=\"24px\" viewBox=\"0 -960 960 960\">\n",
              "    <path d=\"M120-120v-720h720v720H120Zm60-500h600v-160H180v160Zm220 220h160v-160H400v160Zm0 220h160v-160H400v160ZM180-400h160v-160H180v160Zm440 0h160v-160H620v160ZM180-180h160v-160H180v160Zm440 0h160v-160H620v160Z\"/>\n",
              "  </svg>\n",
              "    </button>\n",
              "\n",
              "  <style>\n",
              "    .colab-df-container {\n",
              "      display:flex;\n",
              "      gap: 12px;\n",
              "    }\n",
              "\n",
              "    .colab-df-convert {\n",
              "      background-color: #E8F0FE;\n",
              "      border: none;\n",
              "      border-radius: 50%;\n",
              "      cursor: pointer;\n",
              "      display: none;\n",
              "      fill: #1967D2;\n",
              "      height: 32px;\n",
              "      padding: 0 0 0 0;\n",
              "      width: 32px;\n",
              "    }\n",
              "\n",
              "    .colab-df-convert:hover {\n",
              "      background-color: #E2EBFA;\n",
              "      box-shadow: 0px 1px 2px rgba(60, 64, 67, 0.3), 0px 1px 3px 1px rgba(60, 64, 67, 0.15);\n",
              "      fill: #174EA6;\n",
              "    }\n",
              "\n",
              "    .colab-df-buttons div {\n",
              "      margin-bottom: 4px;\n",
              "    }\n",
              "\n",
              "    [theme=dark] .colab-df-convert {\n",
              "      background-color: #3B4455;\n",
              "      fill: #D2E3FC;\n",
              "    }\n",
              "\n",
              "    [theme=dark] .colab-df-convert:hover {\n",
              "      background-color: #434B5C;\n",
              "      box-shadow: 0px 1px 3px 1px rgba(0, 0, 0, 0.15);\n",
              "      filter: drop-shadow(0px 1px 2px rgba(0, 0, 0, 0.3));\n",
              "      fill: #FFFFFF;\n",
              "    }\n",
              "  </style>\n",
              "\n",
              "    <script>\n",
              "      const buttonEl =\n",
              "        document.querySelector('#df-d160d4d5-2317-4f56-8fe3-cdc05c213e19 button.colab-df-convert');\n",
              "      buttonEl.style.display =\n",
              "        google.colab.kernel.accessAllowed ? 'block' : 'none';\n",
              "\n",
              "      async function convertToInteractive(key) {\n",
              "        const element = document.querySelector('#df-d160d4d5-2317-4f56-8fe3-cdc05c213e19');\n",
              "        const dataTable =\n",
              "          await google.colab.kernel.invokeFunction('convertToInteractive',\n",
              "                                                    [key], {});\n",
              "        if (!dataTable) return;\n",
              "\n",
              "        const docLinkHtml = 'Like what you see? Visit the ' +\n",
              "          '<a target=\"_blank\" href=https://colab.research.google.com/notebooks/data_table.ipynb>data table notebook</a>'\n",
              "          + ' to learn more about interactive tables.';\n",
              "        element.innerHTML = '';\n",
              "        dataTable['output_type'] = 'display_data';\n",
              "        await google.colab.output.renderOutput(dataTable, element);\n",
              "        const docLink = document.createElement('div');\n",
              "        docLink.innerHTML = docLinkHtml;\n",
              "        element.appendChild(docLink);\n",
              "      }\n",
              "    </script>\n",
              "  </div>\n",
              "\n",
              "\n",
              "<div id=\"df-2bd96330-379e-4e9b-9a2b-8cde27631dc7\">\n",
              "  <button class=\"colab-df-quickchart\" onclick=\"quickchart('df-2bd96330-379e-4e9b-9a2b-8cde27631dc7')\"\n",
              "            title=\"Suggest charts\"\n",
              "            style=\"display:none;\">\n",
              "\n",
              "<svg xmlns=\"http://www.w3.org/2000/svg\" height=\"24px\"viewBox=\"0 0 24 24\"\n",
              "     width=\"24px\">\n",
              "    <g>\n",
              "        <path d=\"M19 3H5c-1.1 0-2 .9-2 2v14c0 1.1.9 2 2 2h14c1.1 0 2-.9 2-2V5c0-1.1-.9-2-2-2zM9 17H7v-7h2v7zm4 0h-2V7h2v10zm4 0h-2v-4h2v4z\"/>\n",
              "    </g>\n",
              "</svg>\n",
              "  </button>\n",
              "\n",
              "<style>\n",
              "  .colab-df-quickchart {\n",
              "      --bg-color: #E8F0FE;\n",
              "      --fill-color: #1967D2;\n",
              "      --hover-bg-color: #E2EBFA;\n",
              "      --hover-fill-color: #174EA6;\n",
              "      --disabled-fill-color: #AAA;\n",
              "      --disabled-bg-color: #DDD;\n",
              "  }\n",
              "\n",
              "  [theme=dark] .colab-df-quickchart {\n",
              "      --bg-color: #3B4455;\n",
              "      --fill-color: #D2E3FC;\n",
              "      --hover-bg-color: #434B5C;\n",
              "      --hover-fill-color: #FFFFFF;\n",
              "      --disabled-bg-color: #3B4455;\n",
              "      --disabled-fill-color: #666;\n",
              "  }\n",
              "\n",
              "  .colab-df-quickchart {\n",
              "    background-color: var(--bg-color);\n",
              "    border: none;\n",
              "    border-radius: 50%;\n",
              "    cursor: pointer;\n",
              "    display: none;\n",
              "    fill: var(--fill-color);\n",
              "    height: 32px;\n",
              "    padding: 0;\n",
              "    width: 32px;\n",
              "  }\n",
              "\n",
              "  .colab-df-quickchart:hover {\n",
              "    background-color: var(--hover-bg-color);\n",
              "    box-shadow: 0 1px 2px rgba(60, 64, 67, 0.3), 0 1px 3px 1px rgba(60, 64, 67, 0.15);\n",
              "    fill: var(--button-hover-fill-color);\n",
              "  }\n",
              "\n",
              "  .colab-df-quickchart-complete:disabled,\n",
              "  .colab-df-quickchart-complete:disabled:hover {\n",
              "    background-color: var(--disabled-bg-color);\n",
              "    fill: var(--disabled-fill-color);\n",
              "    box-shadow: none;\n",
              "  }\n",
              "\n",
              "  .colab-df-spinner {\n",
              "    border: 2px solid var(--fill-color);\n",
              "    border-color: transparent;\n",
              "    border-bottom-color: var(--fill-color);\n",
              "    animation:\n",
              "      spin 1s steps(1) infinite;\n",
              "  }\n",
              "\n",
              "  @keyframes spin {\n",
              "    0% {\n",
              "      border-color: transparent;\n",
              "      border-bottom-color: var(--fill-color);\n",
              "      border-left-color: var(--fill-color);\n",
              "    }\n",
              "    20% {\n",
              "      border-color: transparent;\n",
              "      border-left-color: var(--fill-color);\n",
              "      border-top-color: var(--fill-color);\n",
              "    }\n",
              "    30% {\n",
              "      border-color: transparent;\n",
              "      border-left-color: var(--fill-color);\n",
              "      border-top-color: var(--fill-color);\n",
              "      border-right-color: var(--fill-color);\n",
              "    }\n",
              "    40% {\n",
              "      border-color: transparent;\n",
              "      border-right-color: var(--fill-color);\n",
              "      border-top-color: var(--fill-color);\n",
              "    }\n",
              "    60% {\n",
              "      border-color: transparent;\n",
              "      border-right-color: var(--fill-color);\n",
              "    }\n",
              "    80% {\n",
              "      border-color: transparent;\n",
              "      border-right-color: var(--fill-color);\n",
              "      border-bottom-color: var(--fill-color);\n",
              "    }\n",
              "    90% {\n",
              "      border-color: transparent;\n",
              "      border-bottom-color: var(--fill-color);\n",
              "    }\n",
              "  }\n",
              "</style>\n",
              "\n",
              "  <script>\n",
              "    async function quickchart(key) {\n",
              "      const quickchartButtonEl =\n",
              "        document.querySelector('#' + key + ' button');\n",
              "      quickchartButtonEl.disabled = true;  // To prevent multiple clicks.\n",
              "      quickchartButtonEl.classList.add('colab-df-spinner');\n",
              "      try {\n",
              "        const charts = await google.colab.kernel.invokeFunction(\n",
              "            'suggestCharts', [key], {});\n",
              "      } catch (error) {\n",
              "        console.error('Error during call to suggestCharts:', error);\n",
              "      }\n",
              "      quickchartButtonEl.classList.remove('colab-df-spinner');\n",
              "      quickchartButtonEl.classList.add('colab-df-quickchart-complete');\n",
              "    }\n",
              "    (() => {\n",
              "      let quickchartButtonEl =\n",
              "        document.querySelector('#df-2bd96330-379e-4e9b-9a2b-8cde27631dc7 button');\n",
              "      quickchartButtonEl.style.display =\n",
              "        google.colab.kernel.accessAllowed ? 'block' : 'none';\n",
              "    })();\n",
              "  </script>\n",
              "</div>\n",
              "\n",
              "    </div>\n",
              "  </div>\n"
            ],
            "application/vnd.google.colaboratory.intrinsic+json": {
              "type": "dataframe",
              "variable_name": "df",
              "repr_error": "'str' object has no attribute 'empty'"
            }
          },
          "metadata": {},
          "execution_count": 64
        }
      ],
      "source": [
        "fname = \"data/oreo_sentiment.csv\"\n",
        "\n",
        "df = pd.read_csv(fname)\n",
        "ntweets = len(df)\n",
        "print(f\"dataframe has {ntweets} tweets\")\n",
        "df.screen_name.unique()\n",
        "df.head()"
      ]
    },
    {
      "cell_type": "markdown",
      "metadata": {
        "id": "rsbaRShfqeDE"
      },
      "source": [
        "## 2. (4 points) Plot retweet count vs. keyword\n",
        "\n",
        "We will look at the keywords `\"fordtrucks\"`, `\"thinsprotectionprogram\"`,`\"pokemon\"`, and `\"oreo\"`.  For each keyword, make a bar plot of the mean retweet count of tweets with the word and without the word.  Put labels on the axes and a title indicating which keyword you are plotting.  A `for` loop might be useful here."
      ]
    },
    {
      "cell_type": "code",
      "execution_count": null,
      "metadata": {
        "id": "F-2l47GaosR5",
        "colab": {
          "base_uri": "https://localhost:8080/",
          "height": 1000
        },
        "outputId": "5994bca5-5d6a-446b-ffdc-1703d3ffa59c"
      },
      "outputs": [
        {
          "output_type": "display_data",
          "data": {
            "text/plain": [
              "<Figure size 800x600 with 1 Axes>"
            ],
            "image/png": "[encoded data removed]"
          },
          "metadata": {}
        },
        {
          "output_type": "display_data",
          "data": {
            "text/plain": [
              "<Figure size 800x600 with 1 Axes>"
            ],
            "image/png": "[encoded data removed]"
          },
          "metadata": {}
        },
        {
          "output_type": "display_data",
          "data": {
            "text/plain": [
              "<Figure size 800x600 with 1 Axes>"
            ],
            "image/png": "[encoded data removed]"
          },
          "metadata": {}
        },
        {
          "output_type": "display_data",
          "data": {
            "text/plain": [
              "<Figure size 800x600 with 1 Axes>"
            ],
            "image/png": "[encoded data removed]"
          },
          "metadata": {}
        }
      ],
      "source": [
        "# prompt: We will look at the keywords \"fordtrucks\", \"thinsprotectionprogram\",\"pokemon\", and \"oreo\". For each keyword, make a bar plot of the mean retweet count of tweets with the word and without the word. Put labels on the axes and a title indicating which keyword you are plotting. A for loop might be useful here\n",
        "\n",
        "import matplotlib.pyplot as plt\n",
        "keywords = [\"fordtrucks\", \"thinsprotectionprogram\", \"pokemon\", \"oreo\"]\n",
        "\n",
        "for keyword in keywords:\n",
        "    # Calculate the mean retweet count for tweets with and without the keyword\n",
        "    with_keyword = df[df.text.str.contains(keyword, case=False, na=False)]['retweet_count'].mean()\n",
        "    without_keyword = df[~df.text.str.contains(keyword, case=False, na=False)]['retweet_count'].mean()\n",
        "\n",
        "    # Create a bar plot\n",
        "    plt.bar(['With Keyword', 'Without Keyword'], [with_keyword, without_keyword])\n",
        "    plt.xlabel('Keyword')\n",
        "    plt.ylabel('Mean Retweet Count')\n",
        "    plt.title(f'Retweet Count vs. {keyword}')\n",
        "    plt.show()\n",
        "\n"
      ]
    },
    {
      "cell_type": "markdown",
      "metadata": {
        "id": "YDfD_e5JuukK"
      },
      "source": [
        "## 3. (10 points) T-test of retweet count\n",
        "\n",
        "Do a t-test for the retweet count of tweets with and without the keyword for each keyword.  Print your t-statistics and p-values. A `for` loop might be useful here."
      ]
    },
    {
      "cell_type": "code",
      "execution_count": null,
      "metadata": {
        "id": "mtgFuEx4vA7P",
        "colab": {
          "base_uri": "https://localhost:8080/"
        },
        "outputId": "f13d3db2-216d-4d8a-df21-62ba39b59c1e"
      },
      "outputs": [
        {
          "output_type": "stream",
          "name": "stdout",
          "text": [
            "Keyword: fordtrucks\n",
            "t-statistic: -4.466, p-value: 0.000\n",
            "Keyword: thinsprotectionprogram\n",
            "t-statistic: -3.291, p-value: 0.001\n",
            "Keyword: pokemon\n",
            "t-statistic: 1.208, p-value: 0.237\n",
            "Keyword: oreo\n",
            "t-statistic: 2.411, p-value: 0.017\n"
          ]
        }
      ],
      "source": [
        "# prompt: Do a t-test for the retweet count of tweets with and without the keyword for each keyword. Print your t-statistics and p-values. A for loop might be useful here.\n",
        "\n",
        "for keyword in keywords:\n",
        "    # Extract the retweet counts for tweets with and without the keyword\n",
        "    with_keyword = df[df.text.str.contains(keyword, case=False, na=False)]['retweet_count']\n",
        "    without_keyword = df[~df.text.str.contains(keyword, case=False, na=False)]['retweet_count']\n",
        "\n",
        "    # Perform a t-test to compare the mean retweet count of the two groups\n",
        "    t_stat, pval = stats.ttest_ind(with_keyword, without_keyword, equal_var=False)\n",
        "\n",
        "    # Print the results\n",
        "    print(f\"Keyword: {keyword}\")\n",
        "    print(f\"t-statistic: {t_stat:.3f}, p-value: {pval:.3f}\")\n",
        "\n"
      ]
    },
    {
      "cell_type": "markdown",
      "metadata": {
        "id": "BVfRO10fvKr0"
      },
      "source": [
        "## 4. (8 points) T-test of retweet count with Holm-Bonferroni Method\n",
        "\n",
        "Apply the Holm-Bonferroni method to the calculated p-values.  Print the pvalues and whether the retweet count difference is significant at a 1% level for each keyword."
      ]
    },
    {
      "cell_type": "code",
      "execution_count": null,
      "metadata": {
        "id": "cFJVZT34tIV2",
        "colab": {
          "base_uri": "https://localhost:8080/"
        },
        "outputId": "30f37968-1dc0-403b-b92e-b375248d22e6"
      },
      "outputs": [
        {
          "output_type": "stream",
          "name": "stdout",
          "text": [
            "Keyword: fordtrucks\n",
            "p-value: 0.000\n",
            "Adjusted p-value: 0.000\n",
            "The retweet count difference is significant at a 1% level.\n",
            "Keyword: thinsprotectionprogram\n",
            "p-value: 0.001\n",
            "Adjusted p-value: 0.003\n",
            "The retweet count difference is significant at a 1% level.\n",
            "Keyword: pokemon\n",
            "p-value: 0.237\n",
            "Adjusted p-value: 0.237\n",
            "The retweet count difference is not significant at a 1% level.\n",
            "Keyword: oreo\n",
            "p-value: 0.017\n",
            "Adjusted p-value: 0.033\n",
            "The retweet count difference is not significant at a 1% level.\n"
          ]
        }
      ],
      "source": [
        "# prompt: Apply the Holm-Bonferroni method to the calculated p-values. Print the pvalues and whether the retweet count difference is significant at a 1% level for each keyword.\n",
        "\n",
        "# Calculate the adjusted p-values using the Holm-Bonferroni method\n",
        "pvals = [stats.ttest_ind(df[df.text.str.contains(keyword, case=False, na=False)]['retweet_count'],\n",
        "                          df[~df.text.str.contains(keyword, case=False, na=False)]['retweet_count'],\n",
        "                          equal_var=False)[1] for keyword in keywords]\n",
        "adjusted_pvals = multipletests(pvals, method='holm')[1]\n",
        "\n",
        "# Print the p-values and significance\n",
        "for i, keyword in enumerate(keywords):\n",
        "    print(f\"Keyword: {keyword}\")\n",
        "    print(f\"p-value: {pvals[i]:.3f}\")\n",
        "    print(f\"Adjusted p-value: {adjusted_pvals[i]:.3f}\")\n",
        "    if adjusted_pvals[i] < 0.01:\n",
        "        print(\"The retweet count difference is significant at a 1% level.\")\n",
        "    else:\n",
        "        print(\"The retweet count difference is not significant at a 1% level.\")\n",
        "\n"
      ]
    },
    {
      "cell_type": "markdown",
      "metadata": {
        "id": "3SBzASJ_w0Zq"
      },
      "source": [
        "## 5. (10 points) Oreo vs. Pokemon\n",
        "\n",
        "Apply a t-test to compare the mean retweet count of tweets that contain `\"pokemon\"` to those that contain `\"oreo\"`.  Print the mean retweet count of each group of tweets, the t-statistic and p-value.  Is the difference significant at a 1% level?"
      ]
    },
    {
      "cell_type": "code",
      "execution_count": null,
      "metadata": {
        "id": "OavoiUWJw8wW",
        "colab": {
          "base_uri": "https://localhost:8080/"
        },
        "outputId": "b814d1cf-0961-48b7-e87e-7b40d2e5e62d"
      },
      "outputs": [
        {
          "output_type": "stream",
          "name": "stdout",
          "text": [
            "Mean retweet count for tweets with 'pokemon': 237.867\n",
            "Mean retweet count for tweets with 'oreo': 54.563\n",
            "t-statistic: 0.955, p-value: 0.347\n",
            "The difference in mean retweet count is not significant at a 1% level.\n"
          ]
        }
      ],
      "source": [
        "# prompt: Apply a t-test to compare the mean retweet count of tweets that contain \"pokemon\" to those that contain \"oreo\". Print the mean retweet count of each group of tweets, the t-statistic and p-value. Is the difference significant at a 1% level?\n",
        "\n",
        "# Extract the retweet counts for tweets with \"pokemon\" and \"oreo\"\n",
        "pokemon_retweets = df[df.text.str.contains(\"pokemon\", case=False, na=False)]['retweet_count']\n",
        "oreo_retweets = df[df.text.str.contains(\"oreo\", case=False, na=False)]['retweet_count']\n",
        "\n",
        "# Calculate the mean retweet count for each group\n",
        "mean_pokemon = pokemon_retweets.mean()\n",
        "mean_oreo = oreo_retweets.mean()\n",
        "\n",
        "# Print the mean retweet counts\n",
        "print(f\"Mean retweet count for tweets with 'pokemon': {mean_pokemon:.3f}\")\n",
        "print(f\"Mean retweet count for tweets with 'oreo': {mean_oreo:.3f}\")\n",
        "\n",
        "# Perform a t-test to compare the mean retweet count of the two groups\n",
        "t_stat, pval = stats.ttest_ind(pokemon_retweets, oreo_retweets, equal_var=False)\n",
        "\n",
        "# Print the t-statistic and p-value\n",
        "print(f\"t-statistic: {t_stat:.3f}, p-value: {pval:.3f}\")\n",
        "\n",
        "# Check for significance at a 1% level\n",
        "if pval < 0.01:\n",
        "    print(\"The difference in mean retweet count is significant at a 1% level.\")\n",
        "else:\n",
        "    print(\"The difference in mean retweet count is not significant at a 1% level.\")\n"
      ]
    },
    {
      "cell_type": "markdown",
      "metadata": {
        "id": "CDZoWEgQ5nYY"
      },
      "source": [
        "# Problem 3. (22 points) Comparing Users"
      ]
    },
    {
      "cell_type": "markdown",
      "metadata": {
        "id": "3Q8OWHz1EVkG"
      },
      "source": [
        "## 1. (2 points) Load data\n",
        "\n",
        "Load the tweets in the file `\"data/tweets_KingJamesStephenCurry30.csv\"` into a dataframe.  These are tweets for a few prominent Twitter users.  Print out the unique values in the column `screen_name`."
      ]
    },
    {
      "cell_type": "code",
      "execution_count": null,
      "metadata": {
        "id": "uLs4uJMi55HO",
        "colab": {
          "base_uri": "https://localhost:8080/"
        },
        "outputId": "ae0b441b-d5ba-4006-e34d-f99c96820201"
      },
      "outputs": [
        {
          "output_type": "stream",
          "name": "stdout",
          "text": [
            "dataframe has 2036 tweets\n"
          ]
        },
        {
          "output_type": "execute_result",
          "data": {
            "text/plain": [
              "array(['KingJames', 'StephenCurry30'], dtype=object)"
            ]
          },
          "metadata": {},
          "execution_count": 78
        }
      ],
      "source": [
        "fname = \"data/tweets_KingJamesStephenCurry30.csv\"\n",
        "\n",
        "df_all = pd.read_csv(fname)\n",
        "ntweets = len(df_all)\n",
        "print(f\"dataframe has {ntweets} tweets\")\n",
        "df_all.screen_name.unique()"
      ]
    },
    {
      "cell_type": "markdown",
      "metadata": {
        "id": "bXVSh1fz7pVg"
      },
      "source": [
        "## 2. (10 points) Fisher exact test for keyword usage\n",
        "\n",
        "Do a Fisher exact test to determine if users with screen names `\"KingJames\"` and `\"StephenCurry30\"` use the word `\"champion\"` with the same frequency.  Print the values in your contingency table (`a`,`b`,`c`,`d` defined in lecture).  Print the p-value and  whether the difference significant at a 1% level."
      ]
    },
    {
      "cell_type": "code",
      "execution_count": null,
      "metadata": {
        "id": "HrF-54Xx67io",
        "colab": {
          "base_uri": "https://localhost:8080/",
          "height": 161
        },
        "outputId": "6abac564-ec82-4985-e1ef-fab4b8ab91a5"
      },
      "outputs": [
        {
          "output_type": "stream",
          "name": "stdout",
          "text": [
            "Contingency Table for champion\n"
          ]
        },
        {
          "output_type": "execute_result",
          "data": {
            "text/plain": [
              "text            False  True \n",
              "screen_name                 \n",
              "KingJames        1014      2\n",
              "StephenCurry30   1006     14"
            ],
            "text/html": [
              "\n",
              "  <div id=\"df-060b5f55-49bc-4f03-b8d0-9e9c1435b3da\" class=\"colab-df-container\">\n",
              "    <div>\n",
              "<style scoped>\n",
              "    .dataframe tbody tr th:only-of-type {\n",
              "        vertical-align: middle;\n",
              "    }\n",
              "\n",
              "    .dataframe tbody tr th {\n",
              "        vertical-align: top;\n",
              "    }\n",
              "\n",
              "    .dataframe thead th {\n",
              "        text-align: right;\n",
              "    }\n",
              "</style>\n",
              "<table border=\"1\" class=\"dataframe\">\n",
              "  <thead>\n",
              "    <tr style=\"text-align: right;\">\n",
              "      <th>text</th>\n",
              "      <th>False</th>\n",
              "      <th>True</th>\n",
              "    </tr>\n",
              "    <tr>\n",
              "      <th>screen_name</th>\n",
              "      <th></th>\n",
              "      <th></th>\n",
              "    </tr>\n",
              "  </thead>\n",
              "  <tbody>\n",
              "    <tr>\n",
              "      <th>KingJames</th>\n",
              "      <td>1014</td>\n",
              "      <td>2</td>\n",
              "    </tr>\n",
              "    <tr>\n",
              "      <th>StephenCurry30</th>\n",
              "      <td>1006</td>\n",
              "      <td>14</td>\n",
              "    </tr>\n",
              "  </tbody>\n",
              "</table>\n",
              "</div>\n",
              "    <div class=\"colab-df-buttons\">\n",
              "\n",
              "  <div class=\"colab-df-container\">\n",
              "    <button class=\"colab-df-convert\" onclick=\"convertToInteractive('df-060b5f55-49bc-4f03-b8d0-9e9c1435b3da')\"\n",
              "            title=\"Convert this dataframe to an interactive table.\"\n",
              "            style=\"display:none;\">\n",
              "\n",
              "  <svg xmlns=\"http://www.w3.org/2000/svg\" height=\"24px\" viewBox=\"0 -960 960 960\">\n",
              "    <path d=\"M120-120v-720h720v720H120Zm60-500h600v-160H180v160Zm220 220h160v-160H400v160Zm0 220h160v-160H400v160ZM180-400h160v-160H180v160Zm440 0h160v-160H620v160ZM180-180h160v-160H180v160Zm440 0h160v-160H620v160Z\"/>\n",
              "  </svg>\n",
              "    </button>\n",
              "\n",
              "  <style>\n",
              "    .colab-df-container {\n",
              "      display:flex;\n",
              "      gap: 12px;\n",
              "    }\n",
              "\n",
              "    .colab-df-convert {\n",
              "      background-color: #E8F0FE;\n",
              "      border: none;\n",
              "      border-radius: 50%;\n",
              "      cursor: pointer;\n",
              "      display: none;\n",
              "      fill: #1967D2;\n",
              "      height: 32px;\n",
              "      padding: 0 0 0 0;\n",
              "      width: 32px;\n",
              "    }\n",
              "\n",
              "    .colab-df-convert:hover {\n",
              "      background-color: #E2EBFA;\n",
              "      box-shadow: 0px 1px 2px rgba(60, 64, 67, 0.3), 0px 1px 3px 1px rgba(60, 64, 67, 0.15);\n",
              "      fill: #174EA6;\n",
              "    }\n",
              "\n",
              "    .colab-df-buttons div {\n",
              "      margin-bottom: 4px;\n",
              "    }\n",
              "\n",
              "    [theme=dark] .colab-df-convert {\n",
              "      background-color: #3B4455;\n",
              "      fill: #D2E3FC;\n",
              "    }\n",
              "\n",
              "    [theme=dark] .colab-df-convert:hover {\n",
              "      background-color: #434B5C;\n",
              "      box-shadow: 0px 1px 3px 1px rgba(0, 0, 0, 0.15);\n",
              "      filter: drop-shadow(0px 1px 2px rgba(0, 0, 0, 0.3));\n",
              "      fill: #FFFFFF;\n",
              "    }\n",
              "  </style>\n",
              "\n",
              "    <script>\n",
              "      const buttonEl =\n",
              "        document.querySelector('#df-060b5f55-49bc-4f03-b8d0-9e9c1435b3da button.colab-df-convert');\n",
              "      buttonEl.style.display =\n",
              "        google.colab.kernel.accessAllowed ? 'block' : 'none';\n",
              "\n",
              "      async function convertToInteractive(key) {\n",
              "        const element = document.querySelector('#df-060b5f55-49bc-4f03-b8d0-9e9c1435b3da');\n",
              "        const dataTable =\n",
              "          await google.colab.kernel.invokeFunction('convertToInteractive',\n",
              "                                                    [key], {});\n",
              "        if (!dataTable) return;\n",
              "\n",
              "        const docLinkHtml = 'Like what you see? Visit the ' +\n",
              "          '<a target=\"_blank\" href=https://colab.research.google.com/notebooks/data_table.ipynb>data table notebook</a>'\n",
              "          + ' to learn more about interactive tables.';\n",
              "        element.innerHTML = '';\n",
              "        dataTable['output_type'] = 'display_data';\n",
              "        await google.colab.output.renderOutput(dataTable, element);\n",
              "        const docLink = document.createElement('div');\n",
              "        docLink.innerHTML = docLinkHtml;\n",
              "        element.appendChild(docLink);\n",
              "      }\n",
              "    </script>\n",
              "  </div>\n",
              "\n",
              "\n",
              "<div id=\"df-5080917b-814c-4123-b71c-11187c252f1c\">\n",
              "  <button class=\"colab-df-quickchart\" onclick=\"quickchart('df-5080917b-814c-4123-b71c-11187c252f1c')\"\n",
              "            title=\"Suggest charts\"\n",
              "            style=\"display:none;\">\n",
              "\n",
              "<svg xmlns=\"http://www.w3.org/2000/svg\" height=\"24px\"viewBox=\"0 0 24 24\"\n",
              "     width=\"24px\">\n",
              "    <g>\n",
              "        <path d=\"M19 3H5c-1.1 0-2 .9-2 2v14c0 1.1.9 2 2 2h14c1.1 0 2-.9 2-2V5c0-1.1-.9-2-2-2zM9 17H7v-7h2v7zm4 0h-2V7h2v10zm4 0h-2v-4h2v4z\"/>\n",
              "    </g>\n",
              "</svg>\n",
              "  </button>\n",
              "\n",
              "<style>\n",
              "  .colab-df-quickchart {\n",
              "      --bg-color: #E8F0FE;\n",
              "      --fill-color: #1967D2;\n",
              "      --hover-bg-color: #E2EBFA;\n",
              "      --hover-fill-color: #174EA6;\n",
              "      --disabled-fill-color: #AAA;\n",
              "      --disabled-bg-color: #DDD;\n",
              "  }\n",
              "\n",
              "  [theme=dark] .colab-df-quickchart {\n",
              "      --bg-color: #3B4455;\n",
              "      --fill-color: #D2E3FC;\n",
              "      --hover-bg-color: #434B5C;\n",
              "      --hover-fill-color: #FFFFFF;\n",
              "      --disabled-bg-color: #3B4455;\n",
              "      --disabled-fill-color: #666;\n",
              "  }\n",
              "\n",
              "  .colab-df-quickchart {\n",
              "    background-color: var(--bg-color);\n",
              "    border: none;\n",
              "    border-radius: 50%;\n",
              "    cursor: pointer;\n",
              "    display: none;\n",
              "    fill: var(--fill-color);\n",
              "    height: 32px;\n",
              "    padding: 0;\n",
              "    width: 32px;\n",
              "  }\n",
              "\n",
              "  .colab-df-quickchart:hover {\n",
              "    background-color: var(--hover-bg-color);\n",
              "    box-shadow: 0 1px 2px rgba(60, 64, 67, 0.3), 0 1px 3px 1px rgba(60, 64, 67, 0.15);\n",
              "    fill: var(--button-hover-fill-color);\n",
              "  }\n",
              "\n",
              "  .colab-df-quickchart-complete:disabled,\n",
              "  .colab-df-quickchart-complete:disabled:hover {\n",
              "    background-color: var(--disabled-bg-color);\n",
              "    fill: var(--disabled-fill-color);\n",
              "    box-shadow: none;\n",
              "  }\n",
              "\n",
              "  .colab-df-spinner {\n",
              "    border: 2px solid var(--fill-color);\n",
              "    border-color: transparent;\n",
              "    border-bottom-color: var(--fill-color);\n",
              "    animation:\n",
              "      spin 1s steps(1) infinite;\n",
              "  }\n",
              "\n",
              "  @keyframes spin {\n",
              "    0% {\n",
              "      border-color: transparent;\n",
              "      border-bottom-color: var(--fill-color);\n",
              "      border-left-color: var(--fill-color);\n",
              "    }\n",
              "    20% {\n",
              "      border-color: transparent;\n",
              "      border-left-color: var(--fill-color);\n",
              "      border-top-color: var(--fill-color);\n",
              "    }\n",
              "    30% {\n",
              "      border-color: transparent;\n",
              "      border-left-color: var(--fill-color);\n",
              "      border-top-color: var(--fill-color);\n",
              "      border-right-color: var(--fill-color);\n",
              "    }\n",
              "    40% {\n",
              "      border-color: transparent;\n",
              "      border-right-color: var(--fill-color);\n",
              "      border-top-color: var(--fill-color);\n",
              "    }\n",
              "    60% {\n",
              "      border-color: transparent;\n",
              "      border-right-color: var(--fill-color);\n",
              "    }\n",
              "    80% {\n",
              "      border-color: transparent;\n",
              "      border-right-color: var(--fill-color);\n",
              "      border-bottom-color: var(--fill-color);\n",
              "    }\n",
              "    90% {\n",
              "      border-color: transparent;\n",
              "      border-bottom-color: var(--fill-color);\n",
              "    }\n",
              "  }\n",
              "</style>\n",
              "\n",
              "  <script>\n",
              "    async function quickchart(key) {\n",
              "      const quickchartButtonEl =\n",
              "        document.querySelector('#' + key + ' button');\n",
              "      quickchartButtonEl.disabled = true;  // To prevent multiple clicks.\n",
              "      quickchartButtonEl.classList.add('colab-df-spinner');\n",
              "      try {\n",
              "        const charts = await google.colab.kernel.invokeFunction(\n",
              "            'suggestCharts', [key], {});\n",
              "      } catch (error) {\n",
              "        console.error('Error during call to suggestCharts:', error);\n",
              "      }\n",
              "      quickchartButtonEl.classList.remove('colab-df-spinner');\n",
              "      quickchartButtonEl.classList.add('colab-df-quickchart-complete');\n",
              "    }\n",
              "    (() => {\n",
              "      let quickchartButtonEl =\n",
              "        document.querySelector('#df-5080917b-814c-4123-b71c-11187c252f1c button');\n",
              "      quickchartButtonEl.style.display =\n",
              "        google.colab.kernel.accessAllowed ? 'block' : 'none';\n",
              "    })();\n",
              "  </script>\n",
              "</div>\n",
              "\n",
              "  <div id=\"id_c7e4c270-d0f2-486d-bc12-be09f727a589\">\n",
              "    <style>\n",
              "      .colab-df-generate {\n",
              "        background-color: #E8F0FE;\n",
              "        border: none;\n",
              "        border-radius: 50%;\n",
              "        cursor: pointer;\n",
              "        display: none;\n",
              "        fill: #1967D2;\n",
              "        height: 32px;\n",
              "        padding: 0 0 0 0;\n",
              "        width: 32px;\n",
              "      }\n",
              "\n",
              "      .colab-df-generate:hover {\n",
              "        background-color: #E2EBFA;\n",
              "        box-shadow: 0px 1px 2px rgba(60, 64, 67, 0.3), 0px 1px 3px 1px rgba(60, 64, 67, 0.15);\n",
              "        fill: #174EA6;\n",
              "      }\n",
              "\n",
              "      [theme=dark] .colab-df-generate {\n",
              "        background-color: #3B4455;\n",
              "        fill: #D2E3FC;\n",
              "      }\n",
              "\n",
              "      [theme=dark] .colab-df-generate:hover {\n",
              "        background-color: #434B5C;\n",
              "        box-shadow: 0px 1px 3px 1px rgba(0, 0, 0, 0.15);\n",
              "        filter: drop-shadow(0px 1px 2px rgba(0, 0, 0, 0.3));\n",
              "        fill: #FFFFFF;\n",
              "      }\n",
              "    </style>\n",
              "    <button class=\"colab-df-generate\" onclick=\"generateWithVariable('contingency_table')\"\n",
              "            title=\"Generate code using this dataframe.\"\n",
              "            style=\"display:none;\">\n",
              "\n",
              "  <svg xmlns=\"http://www.w3.org/2000/svg\" height=\"24px\"viewBox=\"0 0 24 24\"\n",
              "       width=\"24px\">\n",
              "    <path d=\"M7,19H8.4L18.45,9,17,7.55,7,17.6ZM5,21V16.75L18.45,3.32a2,2,0,0,1,2.83,0l1.4,1.43a1.91,1.91,0,0,1,.58,1.4,1.91,1.91,0,0,1-.58,1.4L9.25,21ZM18.45,9,17,7.55Zm-12,3A5.31,5.31,0,0,0,4.9,8.1,5.31,5.31,0,0,0,1,6.5,5.31,5.31,0,0,0,4.9,4.9,5.31,5.31,0,0,0,6.5,1,5.31,5.31,0,0,0,8.1,4.9,5.31,5.31,0,0,0,12,6.5,5.46,5.46,0,0,0,6.5,12Z\"/>\n",
              "  </svg>\n",
              "    </button>\n",
              "    <script>\n",
              "      (() => {\n",
              "      const buttonEl =\n",
              "        document.querySelector('#id_c7e4c270-d0f2-486d-bc12-be09f727a589 button.colab-df-generate');\n",
              "      buttonEl.style.display =\n",
              "        google.colab.kernel.accessAllowed ? 'block' : 'none';\n",
              "\n",
              "      buttonEl.onclick = () => {\n",
              "        google.colab.notebook.generateWithVariable('contingency_table');\n",
              "      }\n",
              "      })();\n",
              "    </script>\n",
              "  </div>\n",
              "\n",
              "    </div>\n",
              "  </div>\n"
            ],
            "application/vnd.google.colaboratory.intrinsic+json": {
              "type": "dataframe",
              "variable_name": "contingency_table",
              "summary": "{\n  \"name\": \"contingency_table\",\n  \"rows\": 2,\n  \"fields\": [\n    {\n      \"column\": false,\n      \"properties\": {\n        \"dtype\": \"number\",\n        \"std\": 5,\n        \"min\": 1006,\n        \"max\": 1014,\n        \"num_unique_values\": 2,\n        \"samples\": [\n          1006,\n          1014\n        ],\n        \"semantic_type\": \"\",\n        \"description\": \"\"\n      }\n    },\n    {\n      \"column\": true,\n      \"properties\": {\n        \"dtype\": \"number\",\n        \"std\": 8,\n        \"min\": 2,\n        \"max\": 14,\n        \"num_unique_values\": 2,\n        \"samples\": [\n          14,\n          2\n        ],\n        \"semantic_type\": \"\",\n        \"description\": \"\"\n      }\n    }\n  ]\n}"
            }
          },
          "metadata": {},
          "execution_count": 79
        }
      ],
      "source": [
        "w0 = 'KingJames'\n",
        "w1= 'StephenCurry30'\n",
        "keyword ='champion'  #you can pick any keyword you like, not just the ones in the keywords list\n",
        "\n",
        "df2 = df_all[df_all.screen_name.isin([w0,w1])]  #df1 only has tweets from the two users you want to compare\n",
        "contingency_table = pd.crosstab(df2['screen_name'],\n",
        "                                df2['text'].str.contains(keyword))\n",
        "\n",
        "print(f\"Contingency Table for {keyword}\")\n",
        "contingency_table"
      ]
    },
    {
      "cell_type": "code",
      "source": [
        "alpha = 0.01  #significance level\n",
        "\n",
        "# Perform Fisher exact test\n",
        "oddsratio, pval = stats.fisher_exact(contingency_table)\n",
        "\n",
        "\n",
        "print('Fisher exact test')\n",
        "print(f\"{keyword}: odds ratio = {oddsratio:.3f} ({pval:.3e})\\n\")\n",
        "if pval <=alpha:\n",
        "  print(\"Significant at 1% level\")\n",
        "else:\n",
        "  print(\"Not significant at 1% level\")"
      ],
      "metadata": {
        "colab": {
          "base_uri": "https://localhost:8080/"
        },
        "id": "QSKK1qsqnxEO",
        "outputId": "b0e28420-c944-4622-fa2d-6fbe504d7c01"
      },
      "execution_count": null,
      "outputs": [
        {
          "output_type": "stream",
          "name": "stdout",
          "text": [
            "Fisher exact test\n",
            "champion: odds ratio = 7.056 (4.045e-03)\n",
            "\n",
            "Significant at 1% level\n"
          ]
        }
      ]
    },
    {
      "cell_type": "markdown",
      "metadata": {
        "id": "62J5cE_X7w2a"
      },
      "source": [
        "## 3. (10 point) Engagement\n",
        "\n",
        "Define engagement as the ratio of `favorite_count` to `views` count.  Do a t-test to determine if `\"KingJames\"` and `\"StephCurry30\"` have the same engagement.  Print the mean engagement of each user, the t-statistic, p-value, and if the difference significant at a 1% level."
      ]
    },
    {
      "cell_type": "code",
      "execution_count": null,
      "metadata": {
        "id": "Dgx-pHH7h2aI",
        "colab": {
          "base_uri": "https://localhost:8080/"
        },
        "outputId": "4ba2e03b-b1f0-40d5-b8fe-49bb929f69bf"
      },
      "outputs": [
        {
          "output_type": "stream",
          "name": "stdout",
          "text": [
            "Mean engagement for KingJames: 0.007\n",
            "Mean engagement for StephenCurry30: 0.011\n",
            "t-statistic: nan, p-value: nan\n",
            "Not significant at 1% level\n"
          ]
        }
      ],
      "source": [
        "# prompt: Define engagement as the ratio of favorite_count to views count. Do a t-test to determine if \"KingJames\" and \"StephCurry30\" have the same engagement. Print the mean engagement of each user, the t-statistic, p-value, and if the difference significant at a 1% level.\n",
        "\n",
        "df2['engagement'] = df2['favorite_count']/df2['view_count']\n",
        "df2_James = df2[df2.screen_name=='KingJames']\n",
        "df2_Curry = df2[df2.screen_name=='StephenCurry30']\n",
        "\n",
        "engagement_James = df2_James['engagement'].mean()\n",
        "engagement_Curry = df2_Curry['engagement'].mean()\n",
        "\n",
        "t_stat, pval = stats.ttest_ind(df2_James['engagement'], df2_Curry['engagement'], equal_var=False)\n",
        "\n",
        "print(f\"Mean engagement for KingJames: {engagement_James:.3f}\")\n",
        "print(f\"Mean engagement for StephenCurry30: {engagement_Curry:.3f}\")\n",
        "print(f\"t-statistic: {t_stat:.3f}, p-value: {pval:.3e}\")\n",
        "\n",
        "if pval <= 0.01:\n",
        "  print(\"Significant at 1% level\")\n",
        "else:\n",
        "  print(\"Not significant at 1% level\")\n"
      ]
    },
    {
      "cell_type": "markdown",
      "metadata": {
        "id": "G4ONoezD__n2"
      },
      "source": [
        "# Problem 4. (14 points) Tweet Day\n",
        "\n",
        "We will look at the effect the day of the week has on the retweet count for Lebron James."
      ]
    },
    {
      "cell_type": "markdown",
      "metadata": {
        "id": "HBzhnE5g768k"
      },
      "source": [
        "## 1. (4 points) Plot retweet count vs day\n",
        "\n",
        "From the tweets you loaded from the file `\"data/tweets_KingJamesStephenCurry30.csv\"`, get the tweets of the screen name `\"KingJames\"`.  Make a bar plot of the mean retweet count vs. day of the week (you can keep the time in UTC).  Make sure to label axes and put the screen name in the title."
      ]
    },
    {
      "cell_type": "code",
      "execution_count": null,
      "metadata": {
        "id": "_XiAUCjUh4I6",
        "colab": {
          "base_uri": "https://localhost:8080/",
          "height": 683
        },
        "outputId": "d45152c9-0e63-42e6-eb06-2bb14667e46a"
      },
      "outputs": [
        {
          "output_type": "stream",
          "name": "stderr",
          "text": [
            "<ipython-input-90-ee3bd4557fd8>:6: SettingWithCopyWarning: \n",
            "A value is trying to be set on a copy of a slice from a DataFrame.\n",
            "Try using .loc[row_indexer,col_indexer] = value instead\n",
            "\n",
            "See the caveats in the documentation: https://pandas.pydata.org/pandas-docs/stable/user_guide/indexing.html#returning-a-view-versus-a-copy\n",
            "  df_James['day'] = pd.to_datetime(df_James['created_at']).dt.day_name()\n"
          ]
        },
        {
          "output_type": "display_data",
          "data": {
            "text/plain": [
              "<Figure size 800x600 with 1 Axes>"
            ],
            "image/png": "[encoded data removed]"
          },
          "metadata": {}
        }
      ],
      "source": [
        "# prompt: From the tweets you loaded from the file \"data/tweets_KingJamesStephenCurry30.csv\", get the tweets of the screen name \"KingJames\". Make a bar plot of the mean retweet count vs. day of the week (you can keep the time in UTC). Make sure to label axes and put the screen name in the title.\n",
        "\n",
        "import pandas as pd\n",
        "import matplotlib.pyplot as plt\n",
        "df_James = df_all[df_all.screen_name == 'KingJames']\n",
        "df_James['day'] = pd.to_datetime(df_James['created_at']).dt.day_name()\n",
        "mean_retweets_by_day = df_James.groupby('day')['retweet_count'].mean()\n",
        "\n",
        "# Create a bar plot\n",
        "plt.bar(mean_retweets_by_day.index, mean_retweets_by_day.values)\n",
        "plt.xlabel('Day of the Week')\n",
        "plt.ylabel('Mean Retweet Count')\n",
        "plt.title('KingJames: Retweet Count vs. Day of the Week')\n",
        "plt.show()\n"
      ]
    },
    {
      "cell_type": "markdown",
      "metadata": {
        "id": "nkQDG08B-8ZW"
      },
      "source": [
        "## 2. (10 points) T-test of Monday vs. Friday retweet count\n",
        "\n",
        "Apply a t-test to compare the mean retweet count of tweets posted on Sunday vs. posted on Thursday.  Print the mean retweet count of each group of tweets, the t-statistic and p-value.  Is the difference significant at a 1% level?"
      ]
    },
    {
      "cell_type": "code",
      "execution_count": null,
      "metadata": {
        "id": "dKwgeqKYhBQZ",
        "colab": {
          "base_uri": "https://localhost:8080/"
        },
        "outputId": "7ba8655f-ece7-42db-8959-55478586b8a2"
      },
      "outputs": [
        {
          "output_type": "stream",
          "name": "stdout",
          "text": [
            "Mean retweet count for tweets posted on Sunday: 3262.431\n",
            "Mean retweet count for tweets posted on Thursday: 1643.366\n",
            "t-statistic: 2.332, p-value: 2.056e-02\n",
            "The difference in mean retweet count is not significant at a 1% level.\n"
          ]
        }
      ],
      "source": [
        "# prompt: Apply a t-test to compare the mean retweet count of tweets posted on Sunday vs. posted on Thursday. Print the mean retweet count of each group of tweets, the t-statistic and p-value. Is the difference significant at a 1% level?\n",
        "\n",
        "# Extract the retweet counts for tweets posted on Sunday and Thursday\n",
        "sunday_retweets = df_James[df_James['day'] == 'Sunday']['retweet_count']\n",
        "thursday_retweets = df_James[df_James['day'] == 'Thursday']['retweet_count']\n",
        "\n",
        "# Calculate the mean retweet count for each group\n",
        "mean_sunday = sunday_retweets.mean()\n",
        "mean_thursday = thursday_retweets.mean()\n",
        "\n",
        "# Print the mean retweet counts\n",
        "print(f\"Mean retweet count for tweets posted on Sunday: {mean_sunday:.3f}\")\n",
        "print(f\"Mean retweet count for tweets posted on Thursday: {mean_thursday:.3f}\")\n",
        "\n",
        "# Perform a t-test to compare the mean retweet count of the two groups\n",
        "t_stat, pval = stats.ttest_ind(sunday_retweets, thursday_retweets, equal_var=False)\n",
        "\n",
        "# Print the t-statistic and p-value\n",
        "print(f\"t-statistic: {t_stat:.3f}, p-value: {pval:.3e}\")\n",
        "\n",
        "# Check for significance at a 1% level\n",
        "if pval < 0.01:\n",
        "    print(\"The difference in mean retweet count is significant at a 1% level.\")\n",
        "else:\n",
        "    print(\"The difference in mean retweet count is not significant at a 1% level.\")\n"
      ]
    }
  ],
  "metadata": {
    "accelerator": "GPU",
    "colab": {
      "provenance": [],
      "toc_visible": true,
      "include_colab_link": true
    },
    "kernelspec": {
      "display_name": "Python 3 (ipykernel)",
      "language": "python",
      "name": "python3"
    },
    "language_info": {
      "codemirror_mode": {
        "name": "ipython",
        "version": 3
      },
      "file_extension": ".py",
      "mimetype": "text/x-python",
      "name": "python",
      "nbconvert_exporter": "python",
      "pygments_lexer": "ipython3",
      "version": "3.9.13"
    }
  },
  "nbformat": 4,
  "nbformat_minor": 0
}